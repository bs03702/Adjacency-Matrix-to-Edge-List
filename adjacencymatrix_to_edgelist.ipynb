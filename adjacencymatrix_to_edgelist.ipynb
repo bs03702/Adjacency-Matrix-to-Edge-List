{
 "metadata": {
  "name": "",
  "signature": "sha256:9ba210c791cbea12587f1b9974e28d624f3f99a4fd9da83763fb5e095023bb0b"
 },
 "nbformat": 3,
 "nbformat_minor": 0,
 "worksheets": [
  {
   "cells": [
    {
     "cell_type": "code",
     "collapsed": false,
     "input": [
      "import pandas as pd\n",
      "import numpy as np\n",
      "import networkx as nx\n",
      "import csv\n",
      "\n",
      "matrix = pd.read_csv('matrix.csv')\n",
      "print matrix"
     ],
     "language": "python",
     "metadata": {},
     "outputs": [
      {
       "output_type": "stream",
       "stream": "stdout",
       "text": [
        "  null   A  B  C\n",
        "0    A   0  2  3\n",
        "1    B   4  7  5\n",
        "2    C  10  0  1\n"
       ]
      }
     ],
     "prompt_number": 13
    },
    {
     "cell_type": "code",
     "collapsed": false,
     "input": [
      "def adj_to_list(input_filename,output_filename,delimiter):\n",
      "    '''Takes the adjacency matrix on file input_filename into a list of edges and saves it into output_filename'''\n",
      "    A=pd.read_csv(input_filename,delimiter=delimiter,index_col=0)\n",
      "    List=[('Source','Target','Weight')]\n",
      "    for source in A.index.values:\n",
      "        for target in A.index.values:\n",
      "            List.append((target,source,A[source][target]))\n",
      "    with open(output_filename, \"wb\") as f:\n",
      "        writer = csv.writer(f)\n",
      "        writer.writerows(List)\n",
      "    return List"
     ],
     "language": "python",
     "metadata": {},
     "outputs": [],
     "prompt_number": 14
    },
    {
     "cell_type": "code",
     "collapsed": false,
     "input": [
      "List=adj_to_list('matrix.csv','edge_list.csv',',')\n",
      "List"
     ],
     "language": "python",
     "metadata": {},
     "outputs": [
      {
       "metadata": {},
       "output_type": "pyout",
       "prompt_number": 15,
       "text": [
        "[('Source', 'Target', 'Weight'),\n",
        " ('A', 'A', 0),\n",
        " ('B', 'A', 4),\n",
        " ('C', 'A', 10),\n",
        " ('A', 'B', 2),\n",
        " ('B', 'B', 7),\n",
        " ('C', 'B', 0),\n",
        " ('A', 'C', 3),\n",
        " ('B', 'C', 5),\n",
        " ('C', 'C', 1)]"
       ]
      }
     ],
     "prompt_number": 15
    }
   ],
   "metadata": {}
  }
 ]
}